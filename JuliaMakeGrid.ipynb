{
 "cells": [
  {
   "cell_type": "code",
   "execution_count": null,
   "metadata": {},
   "outputs": [],
   "source": [
    "import NumPyArrays as np\n"
   ]
  },
  {
   "cell_type": "code",
   "execution_count": 57,
   "metadata": {},
   "outputs": [],
   "source": [
    "\n",
    "nx = 11\n",
    "ny = 11\n",
    "nz = 110\n",
    "lx=0.01\n",
    "ly=0.01\n",
    "lz=0.0001\n",
    "\n",
    "grid = np.ones((nx,ny,nz))\n",
    "\n",
    "for k in 1:53\n",
    "    for j in 1:11\n",
    "        for i in 1:11\n",
    "                grid[i,j,k] = Int8(2)\n",
    "        end\n",
    "    end\n",
    "end \n",
    "\n",
    "for j in 1:11\n",
    "    for i in 1:11\n",
    "                grid[i,j,54] = Int8(3)\n",
    "    end\n",
    "end"
   ]
  },
  {
   "cell_type": "code",
   "execution_count": 58,
   "metadata": {},
   "outputs": [],
   "source": [
    "heat = np.ones((nx,ny,nz))*0\n",
    "\n",
    "for j in 1:11\n",
    "    for i in 1:11\n",
    "                heat[i,j,54] = Int8(4)\n",
    "    end\n",
    "end\n"
   ]
  },
  {
   "cell_type": "code",
   "execution_count": 82,
   "metadata": {},
   "outputs": [],
   "source": [
    "combined = Array{String}(undef, nx, ny, nz)\n",
    "for k in 1:nz\n",
    "    for j in 1:ny\n",
    "        for i in 1:nx\n",
    "            combined[i,j,k] = string(Int(grid[i,j,k]))*':'*string(Int(heat[i,j,k]))\n",
    "        end\n",
    "    end\n",
    "end\n",
    "\n",
    "file = open(\"geomheat.in\", \"w\")\n",
    "write(file, string(nx)*\" \"*string(ny)*\" \"*string(nz)* \"\\n\")\n",
    "write(file, string(lx)*\" \"*string(ly)*\" \"*string(lz)* \"\\n\")\n",
    "write(file, \"\\n\")\n",
    "\n",
    "for k in 1:nz\n",
    "    for j in 1:ny\n",
    "        for i in 1:nx\n",
    "            write(file, combined[i,j,k])  # Fix: Change parentheses to square brackets\n",
    "            write(file, \" \")\n",
    "        end\n",
    "        write(file, \"\\n\")\n",
    "    end\n",
    "    write(file, \"\\n\")\n",
    "end\n",
    "\n",
    "close(file)\n"
   ]
  },
  {
   "cell_type": "code",
   "execution_count": null,
   "metadata": {},
   "outputs": [],
   "source": [
    "#import Pkg; Pkg.add(\"NumPyArrays\")\n",
    "#"
   ]
  }
 ],
 "metadata": {
  "kernelspec": {
   "display_name": "Julia 1.9.4",
   "language": "julia",
   "name": "julia-1.9"
  },
  "language_info": {
   "file_extension": ".jl",
   "mimetype": "application/julia",
   "name": "julia",
   "version": "1.9.4"
  }
 },
 "nbformat": 4,
 "nbformat_minor": 2
}
