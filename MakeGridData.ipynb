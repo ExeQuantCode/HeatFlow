{
 "cells": [
  {
   "cell_type": "code",
   "execution_count": 18,
   "metadata": {},
   "outputs": [],
   "source": [
    "import numpy as np\n",
    "import os.path \n",
    "n = 10\n",
    "Grid_data = np.ones((n,n,n))\n",
    "save_path = '/home/links/hm556/DCoding/DGitLab/DProject/inputs'\n",
    "\n",
    "\n",
    "name_of_file = 'geom'\n",
    "\n",
    "completeName = os.path.join(save_path, name_of_file+\".in\")         \n",
    "\n",
    "file = open(completeName, \"w\")\n",
    "\n",
    "file.write('0.00019999999999999998 0.00019999999999999998 0.00019999999999999998'+'\\n')\n",
    "file.write(f'{n} {n} {n} '+'\\n')\n",
    "for i in range(0,n):\n",
    "    for j in Grid_data[i]:\n",
    "        file.write('\\n')\n",
    "        for k in j:\n",
    "            file.write(str(int(k))+' ')\n",
    "    file.write('\\n')\n",
    "file.close()\n",
    "\n",
    "\n"
   ]
  },
  {
   "cell_type": "code",
   "execution_count": 24,
   "metadata": {},
   "outputs": [
    {
     "name": "stdout",
     "output_type": "stream",
     "text": [
      "[[1. 1. 1. 1. 1. 1. 1. 1. 1. 1.]\n",
      " [1. 1. 1. 1. 1. 1. 1. 1. 1. 1.]\n",
      " [1. 1. 1. 1. 1. 1. 1. 1. 1. 1.]\n",
      " [1. 1. 1. 1. 1. 1. 1. 1. 1. 1.]\n",
      " [1. 1. 1. 1. 1. 1. 1. 1. 1. 1.]\n",
      " [1. 1. 1. 1. 1. 1. 1. 1. 1. 1.]\n",
      " [1. 1. 1. 1. 1. 1. 1. 1. 1. 1.]\n",
      " [1. 1. 1. 1. 1. 1. 1. 1. 1. 1.]\n",
      " [1. 1. 1. 1. 1. 1. 1. 1. 1. 1.]\n",
      " [1. 1. 1. 1. 1. 1. 1. 1. 1. 1.]]\n"
     ]
    }
   ],
   "source": [
    "n = 10\n",
    "Grid_data = np.ones((n,n,n))*0\n",
    "save_path = '/home/links/hm556/DCoding/DGitLab/DProject/inputs'\n",
    "\n",
    "Grid_data[5,:,:] += 1\n",
    "print(Grid_data[5,:,:])\n",
    "name_of_file = 'heat'\n",
    "\n",
    "completeName = os.path.join(save_path, name_of_file+\".in\")         \n",
    "\n",
    "file = open(completeName, \"w\")\n",
    "\n",
    "\n",
    "for i in range(0,n):\n",
    "    for j in Grid_data[i]:\n",
    "        file.write('\\n')\n",
    "        for k in j:\n",
    "            file.write(str(int(k))+' ')\n",
    "    file.write('\\n')\n",
    "file.close()\n",
    "\n"
   ]
  }
 ],
 "metadata": {
  "interpreter": {
   "hash": "fd0806c9d20e74da4892d3fb413a6f60eb64edddec771950272d176a577e585a"
  },
  "kernelspec": {
   "display_name": "Python 3.9.12 64-bit ('base': conda)",
   "name": "python3"
  },
  "language_info": {
   "codemirror_mode": {
    "name": "ipython",
    "version": 3
   },
   "file_extension": ".py",
   "mimetype": "text/x-python",
   "name": "python",
   "nbconvert_exporter": "python",
   "pygments_lexer": "ipython3",
   "version": "3.9.12"
  },
  "orig_nbformat": 4
 },
 "nbformat": 4,
 "nbformat_minor": 2
}
