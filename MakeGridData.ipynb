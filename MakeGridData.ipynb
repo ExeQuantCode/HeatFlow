{
 "cells": [
  {
   "cell_type": "code",
<<<<<<< HEAD
   "execution_count": 55,
=======
   "execution_count": 2,
>>>>>>> e4d6b0b (Add some prints to debug error in heating)
   "metadata": {},
   "outputs": [],
   "source": [
    "import numpy as np\n",
    "import os.path \n",
    "nx = 11\n",
    "ny = 11\n",
    "nz = 11\n",
    "absx=0.01\n",
    "absy=0.01\n",
    "absz=0.01\n",
    "\n",
    "Grid_data = np.ones((nx,ny,nz))\n",
    "save_path = '/home/links/hm556/DCoding/DGitLab/DProject/inputs'\n",
    "\n",
    "\n",
    "name_of_file = 'geom'\n",
    "\n",
    "completeName = os.path.join(save_path, name_of_file+\".in\")         \n",
    "\n",
    "file = open(completeName, \"w\")\n",
    "\n",
    "file.write(f'{nx} {ny} {nz}'+'\\n')\n",
    "file.write(f'{absx} {absy} {absz} '+'\\n')\n",
    "for k in range(0,nz):\n",
    "    for j in range(0,ny):\n",
    "        file.write('\\n')\n",
    "        for i in range(0,nx):\n",
    "            file.write(str(int(Grid_data[i,j,k]))+' ')\n",
    "    file.write('\\n')\n",
    "file.close()\n",
    "\n",
    "\n"
   ]
  },
  {
   "cell_type": "code",
<<<<<<< HEAD
   "execution_count": 56,
=======
   "execution_count": 12,
>>>>>>> e4d6b0b (Add some prints to debug error in heating)
   "metadata": {},
   "outputs": [
    {
     "ename": "IndexError",
     "evalue": "index 6 is out of bounds for axis 2 with size 1",
     "output_type": "error",
     "traceback": [
      "\u001b[0;31m---------------------------------------------------------------------------\u001b[0m",
      "\u001b[0;31mIndexError\u001b[0m                                Traceback (most recent call last)",
      "\u001b[1;32m/home/links/hm556/DCoding/DGitLab/DProject/MakeGridData.ipynb Cell 2\u001b[0m line \u001b[0;36m<cell line: 8>\u001b[0;34m()\u001b[0m\n\u001b[1;32m      <a href='vscode-notebook-cell:/home/links/hm556/DCoding/DGitLab/DProject/MakeGridData.ipynb#W1sZmlsZQ%3D%3D?line=1'>2</a>\u001b[0m save_path \u001b[39m=\u001b[39m \u001b[39m'\u001b[39m\u001b[39m/home/links/hm556/DCoding/DGitLab/DProject/inputs\u001b[39m\u001b[39m'\u001b[39m\n\u001b[1;32m      <a href='vscode-notebook-cell:/home/links/hm556/DCoding/DGitLab/DProject/MakeGridData.ipynb#W1sZmlsZQ%3D%3D?line=3'>4</a>\u001b[0m \u001b[39m# for x in range(-5,5):\u001b[39;00m\n\u001b[1;32m      <a href='vscode-notebook-cell:/home/links/hm556/DCoding/DGitLab/DProject/MakeGridData.ipynb#W1sZmlsZQ%3D%3D?line=4'>5</a>\u001b[0m \u001b[39m#     for y in range(-5,5):\u001b[39;00m\n\u001b[1;32m      <a href='vscode-notebook-cell:/home/links/hm556/DCoding/DGitLab/DProject/MakeGridData.ipynb#W1sZmlsZQ%3D%3D?line=5'>6</a>\u001b[0m \u001b[39m#         Grid_data[50+x,50+y,50] = 1\u001b[39;00m\n\u001b[1;32m      <a href='vscode-notebook-cell:/home/links/hm556/DCoding/DGitLab/DProject/MakeGridData.ipynb#W1sZmlsZQ%3D%3D?line=6'>7</a>\u001b[0m \u001b[39m#Grid_data[5,:,:] += 0\u001b[39;00m\n\u001b[0;32m----> <a href='vscode-notebook-cell:/home/links/hm556/DCoding/DGitLab/DProject/MakeGridData.ipynb#W1sZmlsZQ%3D%3D?line=7'>8</a>\u001b[0m Grid_data[\u001b[39m6\u001b[39m,\u001b[39m6\u001b[39m,\u001b[39m6\u001b[39m] \u001b[39m=\u001b[39m \u001b[39m3\u001b[39m\n\u001b[1;32m      <a href='vscode-notebook-cell:/home/links/hm556/DCoding/DGitLab/DProject/MakeGridData.ipynb#W1sZmlsZQ%3D%3D?line=8'>9</a>\u001b[0m \u001b[39m# Grid_data[1,0,0] = 1\u001b[39;00m\n\u001b[1;32m     <a href='vscode-notebook-cell:/home/links/hm556/DCoding/DGitLab/DProject/MakeGridData.ipynb#W1sZmlsZQ%3D%3D?line=9'>10</a>\u001b[0m \u001b[39m#print(Grid_data[5,:,:])\u001b[39;00m\n\u001b[1;32m     <a href='vscode-notebook-cell:/home/links/hm556/DCoding/DGitLab/DProject/MakeGridData.ipynb#W1sZmlsZQ%3D%3D?line=10'>11</a>\u001b[0m name_of_file \u001b[39m=\u001b[39m \u001b[39m'\u001b[39m\u001b[39mheat\u001b[39m\u001b[39m'\u001b[39m\n",
      "\u001b[0;31mIndexError\u001b[0m: index 6 is out of bounds for axis 2 with size 1"
     ]
    }
   ],
   "source": [
    "\n",
    "Grid_data = np.ones((nx,ny,nz))*0\n",
    "save_path = '/home/links/hm556/DCoding/DGitLab/DProject/inputs'\n",
    "\n",
    "# for x in range(-5,5):\n",
    "#     for y in range(-5,5):\n",
    "#         Grid_data[50+x,50+y,50] = 1\n",
    "#Grid_data[5,:,:] += 0\n",
    "Grid_data[6,6,6] = 3\n",
    "# Grid_data[1,0,0] = 1\n",
    "#print(Grid_data[5,:,:])\n",
    "name_of_file = 'heat'\n",
    "\n",
    "completeName = os.path.join(save_path, name_of_file+\".in\")         \n",
    "\n",
    "file = open(completeName, \"w\")\n",
    "\n",
    "\n",
    "for k in range(0,nz):\n",
    "    for j in range(0,ny):\n",
    "        file.write('\\n')\n",
    "        for i in range(0,nx):\n",
    "            file.write(str(int(Grid_data[i,j,k]))+' ')\n",
    "    file.write('\\n')\n",
    "file.close()\n",
    "\n"
   ]
  },
  {
   "cell_type": "code",
   "execution_count": null,
   "metadata": {},
   "outputs": [],
   "source": [
    "import numpy as np\n",
    "import matplotlib.pyplot as plt\n",
    "from mpl_toolkits.mplot3d import Axes3D\n",
    "\n",
    "def create_multi_hollow_hemisphere_matrix(size, hemisphere_params):\n",
    "    matrix = np.zeros((size, size, size))\n",
    "\n",
    "    center = (size - 1) / 2\n",
    "\n",
    "    for x in range(size):\n",
    "        for y in range(size):\n",
    "            for z in range(size):\n",
    "                # Check each hollow hemisphere\n",
    "                for index, (outer_radius, inner_radius, value) in hemisphere_params.items():\n",
    "                    distance_squared = (x - center)**2 + (y - center)**2 + (z - center)**2\n",
    "                    if inner_radius**2 <= distance_squared <= outer_radius**2:\n",
    "                        matrix[x, y, z] = value\n",
    "\n",
    "    return matrix\n",
    "\n",
    "def save_matrix_to_txt(matrix, filename):\n",
    "    with open(filename, 'w') as file:\n",
    "        for z in range(matrix.shape[2]):\n",
    "            file.write(f\"\\n\")\n",
    "            np.savetxt(file, matrix[:, :, z], fmt='%d', delimiter='\\t')\n",
    "\n",
    "def plot_3d_matrix(matrix):\n",
    "    fig = plt.figure()\n",
    "    ax = fig.add_subplot(111, projection='3d')\n",
    "\n",
    "    x, y, z = np.nonzero(matrix)\n",
    "\n",
    "    ax.scatter(x, y, z, c=matrix[x, y, z], cmap='viridis', s=50)\n",
    "\n",
    "    plt.show()\n",
    "\n",
    "# Define matrix parameters\n",
    "matrix_size = 30\n",
    "hollow_hemisphere_params_dict = {0: (3, 1, 1), 1: (5, 3, 2), 2: (10, 8, 3)}\n",
    "\n",
    "# Create multi-hollow-hemisphere matrix\n",
    "multi_hollow_hemisphere_matrix = create_multi_hollow_hemisphere_matrix(matrix_size, hollow_hemisphere_params_dict)\n",
    "multi_hollow_hemisphere_matrix[:, :, 0:int(matrix_size/2)] = 0\n",
    "# Save the matrix to a text file\n",
    "save_matrix_to_txt(multi_hollow_hemisphere_matrix, 'output_matrix.txt')\n",
    "\n",
    "# Plot the 3D matrix\n",
    "plot_3d_matrix(multi_hollow_hemisphere_matrix)\n"
   ]
  }
 ],
 "metadata": {
  "interpreter": {
   "hash": "fd0806c9d20e74da4892d3fb413a6f60eb64edddec771950272d176a577e585a"
  },
  "kernelspec": {
   "display_name": "Python 3.9.12 64-bit ('base': conda)",
   "name": "python3"
  },
  "language_info": {
   "codemirror_mode": {
    "name": "ipython",
    "version": 3
   },
   "file_extension": ".py",
   "mimetype": "text/x-python",
   "name": "python",
   "nbconvert_exporter": "python",
   "pygments_lexer": "ipython3",
   "version": "3.9.12"
  },
  "orig_nbformat": 4
 },
 "nbformat": 4,
 "nbformat_minor": 2
}
